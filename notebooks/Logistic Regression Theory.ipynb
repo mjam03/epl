{
 "cells": [
  {
   "cell_type": "markdown",
   "metadata": {},
   "source": [
    "# Logistic Regression Theory"
   ]
  },
  {
   "cell_type": "markdown",
   "metadata": {},
   "source": [
    "Notebook to go through theory behind logistic regression with formulas and examples"
   ]
  },
  {
   "cell_type": "markdown",
   "metadata": {},
   "source": [
    "## 1. Imports"
   ]
  },
  {
   "cell_type": "code",
   "execution_count": 1,
   "metadata": {},
   "outputs": [],
   "source": [
    "import math\n",
    "import matplotlib.pyplot as plt\n",
    "import numpy as np\n",
    "import pandas as pd\n",
    "import scipy.stats as stats\n",
    "from scipy.stats._continuous_distns import _distn_names\n",
    "import seaborn as sns\n",
    "import warnings\n",
    "\n",
    "warnings.filterwarnings('ignore')"
   ]
  },
  {
   "cell_type": "markdown",
   "metadata": {},
   "source": [
    "## 2. Regression Basics"
   ]
  },
  {
   "cell_type": "markdown",
   "metadata": {},
   "source": [
    "Linear regression is a great tool for examining relationships between a set of 'independent variables' (X) and a dependent variable (y)\n",
    "\n",
    "e.g. how correlated is someone's height (y) with their {weight, age, sex, ethnicity}?\n",
    "\n",
    "This is expressed mathematically as:\n",
    "\n",
    "$$y = \\alpha + \\beta_1 x_1 + \\beta_2 x_2 + \\beta_3 x_3 +...+ \\beta_n x_n + \\epsilon$$\n",
    "\n",
    "where we attach weights / sensitivities $\\beta$ to each of our Xs with $\\alpha$ an overall 'bias'"
   ]
  },
  {
   "cell_type": "markdown",
   "metadata": {},
   "source": [
    "The problem then becomes finding the above weights to best fit our observed data - we can define this as minimising the square between $\\hat{y}$ and $y$ where $\\hat{y}$ is the prediction that our above model would spit out\n",
    "\n",
    "$$min_{\\alpha, \\beta} \\sum_i^n{(y - \\hat{y})^2}$$\n",
    "\n",
    "Substituting in:\n",
    "$$min_{\\alpha, \\beta} \\sum_i^n{(y - (\\alpha + \\beta_1 x_1 + \\beta_2 x_2 + \\beta_3 x_3 +...+ \\beta_n x_n))^2}$$"
   ]
  },
  {
   "cell_type": "markdown",
   "metadata": {},
   "source": [
    "We can then differentiate this wrt our n+1 params to get n+1 eq and n+1 unknowns"
   ]
  },
  {
   "cell_type": "markdown",
   "metadata": {},
   "source": [
    "## 3. Issue for Binary Classification"
   ]
  },
  {
   "cell_type": "markdown",
   "metadata": {},
   "source": [
    "The above model assumes that y is a continuous unbounded variable - this doesn't work if we are looking at categorical or binary variables\n",
    "\n",
    "Instead we need something to 'squash' this onto the interval (0,1) where we can then interpret the value as the probability of getting y=1 (for binary classifier)"
   ]
  },
  {
   "cell_type": "markdown",
   "metadata": {},
   "source": [
    "The issues with using linear regression for binary classification are well explained [here](https://christophm.github.io/interpretable-ml-book/logistic.html#what-is-wrong-with-linear-regression-for-classification):\n",
    "\n",
    "\"Since the predicted outcome is not a probability, but a linear interpolation between points, there is no meaningful threshold at which you can distinguish one class from the other. A good illustration of this issue has been given on Stackoverflow.\n",
    "\n",
    "Linear models do not extend to classification problems with multiple classes. You would have to start labeling the next class with 2, then 3, and so on. The classes might not have any meaningful order, but the linear model would force a weird structure on the relationship between the features and your class predictions. The higher the value of a feature with a positive weight, the more it contributes to the prediction of a class with a higher number, even if classes that happen to get a similar number are not closer than other classes.\""
   ]
  },
  {
   "cell_type": "markdown",
   "metadata": {},
   "source": [
    "## 4. Logistic / Sigmoid Function"
   ]
  },
  {
   "cell_type": "markdown",
   "metadata": {},
   "source": [
    "The sigmoid function takes an input x and maps it to the interval (0,1) - this is what we want"
   ]
  },
  {
   "cell_type": "markdown",
   "metadata": {},
   "source": [
    "$$y = \\frac{1}{1 + e^{-x}}$$"
   ]
  },
  {
   "cell_type": "code",
   "execution_count": 2,
   "metadata": {},
   "outputs": [],
   "source": [
    "x_vals = list(range(-10,10))\n",
    "\n",
    "def sigmoid(x):\n",
    "    l = 1 / (1 + math.exp(-x))\n",
    "    return l"
   ]
  },
  {
   "cell_type": "code",
   "execution_count": 3,
   "metadata": {},
   "outputs": [
    {
     "data": {
      "image/png": "[encoded data removed]",
      "text/plain": [
       "<Figure size 720x360 with 1 Axes>"
      ]
     },
     "metadata": {
      "needs_background": "light"
     },
     "output_type": "display_data"
    }
   ],
   "source": [
    "fig, ax = plt.subplots(nrows=1, ncols=1, figsize=(10,5));\n",
    "sns.lineplot(data=pd.DataFrame(data={'y':[sigmoid(x) for x in x_vals], 'x': x_vals}), y='y', x='x', ax=ax);\n",
    "\n",
    "ax.set_ylabel('sigmoid(x)');"
   ]
  },
  {
   "cell_type": "markdown",
   "metadata": {},
   "source": [
    "## 5. Logistic Regression Function & Interpretation"
   ]
  },
  {
   "cell_type": "markdown",
   "metadata": {},
   "source": [
    "We can then combine the two functions above to get the form of our logistic regression:\n",
    "\n",
    "$$y = P(y=1) =  \\frac{1}{1 + e^{-[\\alpha + \\beta_1 x_1 + \\beta_2 x_2 + \\beta_3 x_3 +...+ \\beta_n x_n]}}$$\n",
    "\n",
    "This then means that $P(y=0)$ is expressed as:\n",
    "\n",
    "$$P(y=0) = 1 - P(y=1) = \\frac{e^{-[\\alpha + \\beta_1 x_1 + \\beta_2 x_2 + \\beta_3 x_3 +...+ \\beta_n x_n]}}{1 + e^{-[\\alpha + \\beta_1 x_1 + \\beta_2 x_2 + \\beta_3 x_3 +...+ \\beta_n x_n]}}$$"
   ]
  },
  {
   "cell_type": "markdown",
   "metadata": {},
   "source": [
    "We then can ratio these 2 quantities to try to understand what the parameters we estimate mean intuitively:\n",
    "\n",
    "$$\\frac{P(y=1)}{P(y=0)} = e^{[\\alpha + \\beta_1 x_1 + \\beta_2 x_2 + \\beta_3 x_3 +...+ \\beta_n x_n]}$$\n",
    "\n",
    "And then taking logs of both sides:\n",
    "\n",
    "$$log(\\frac{P(y=1)}{P(y=0)}) = \\alpha + \\beta_1 x_1 + \\beta_2 x_2 + \\beta_3 x_3 +...+ \\beta_n x_n$$"
   ]
  },
  {
   "cell_type": "markdown",
   "metadata": {},
   "source": [
    "This shows that we are estimating a linear model for the log odds of the event y=1, where odds are defined [as](https://en.wikipedia.org/wiki/Odds#Mathematical_relations):\n",
    "\n",
    "$$odds = \\frac{P(y=1)}{1 - P(y=1)}$$"
   ]
  },
  {
   "cell_type": "markdown",
   "metadata": {},
   "source": [
    "Now, we can see what the parameters mean if we e.g. increase $x_1$ by a small increment\n",
    "\n",
    "Taking the ratio of the odds with a small increase in x vs before we get:\n",
    "\n",
    "$$\\frac{odds_{x_{1+1}}}{odds} = \\frac{e^{[\\alpha + \\beta_1 (x_1 + 1) + \\beta_2 x_2 + \\beta_3 x_3 +...+ \\beta_n x_n]}}{e^{[\\alpha + \\beta_1 x_1 + \\beta_2 x_2 + \\beta_3 x_3 +...+ \\beta_n x_n]}}$$"
   ]
  },
  {
   "cell_type": "markdown",
   "metadata": {},
   "source": [
    "Given the rules of logs we know we can cancel out most of the other terms to get:\n",
    "\n",
    "$$\\frac{odds_{x_{1+1}}}{odds} = e^{\\beta_1 (x_1 + 1) - \\beta_1 (x_1)} = e^{\\beta_1}$$"
   ]
  },
  {
   "cell_type": "markdown",
   "metadata": {},
   "source": [
    "[As stated here](https://christophm.github.io/interpretable-ml-book/logistic.html#interpretation-1):\n",
    " - Each parameter affects the change in the odds in a non-linear way due to the exponential function\n",
    " - As for interpretation of $\\beta$:\n",
    "  - \"For example, if you have odds of 2, it means that the probability for y=1 is twice as high as y=0. If you have a weight (= log odds ratio) of 0.7, then increasing the respective feature by one unit multiplies the odds by exp(0.7) (approximately 2) and the odds change to 4\""
   ]
  },
  {
   "cell_type": "markdown",
   "metadata": {},
   "source": [
    "## 6. ML Approach to Multinomial Logistic Regression"
   ]
  },
  {
   "cell_type": "markdown",
   "metadata": {},
   "source": [
    "ML literature treats logistic regression a bit differently from classical stats / econometrics, in a form that is more generisable to multiclass logistic regression"
   ]
  },
  {
   "cell_type": "markdown",
   "metadata": {},
   "source": [
    "To set up the problem, let's say:\n",
    " - We have K classes that we want to classify our data observations into\n",
    " - For each observation, we have the following pair {y, __x__}, where:\n",
    "  - y is the 'target variable' of what class the observation belongs to\n",
    "  - __x__ is a vector of observable data points that will help us fit our classifier i.e. a set of 'features'"
   ]
  },
  {
   "cell_type": "markdown",
   "metadata": {},
   "source": [
    "The problem becomes: How do we train a classifier s.t. we end up with a model/function that we can feed in new observations (sets of __x__) and generate a class prediction?"
   ]
  },
  {
   "cell_type": "markdown",
   "metadata": {},
   "source": [
    "We can think about it as wanting the following output:\n",
    " - A k size vector of outputs that gives us the probability that the obs belongs to that class\n",
    " - The sum of the vector is 1 so that we have a 'probability distribution'"
   ]
  },
  {
   "cell_type": "markdown",
   "metadata": {},
   "source": [
    "To achieve this, we can think of modelling each class as a separate log-linear regression, like the following:\n",
    "\n",
    "For $N$ observations from $i=1,...,N$ and for $K$ classes from $k=1,...,K$, and for a matrix $\\pmb{X}$ NxM dims of N obs and M features:\n",
    "\n",
    "$$ln P(y_i = k) = \\pmb{\\beta_k} \\pmb{X_i} - ln Z$$\n",
    "\n",
    "s.t.\n",
    "\n",
    "$$P(y_i = k) = \\frac{e^{\\pmb{\\beta_k} \\pmb{X_i}}}{Z}$$\n",
    "\n",
    "where we choose $Z$ as a normalising factor to ensure:\n",
    "\n",
    "$$\\sum_{i=1}^{K} P(y_i=k) = 1$$\n",
    "\n",
    "for every observation $i$"
   ]
  },
  {
   "cell_type": "markdown",
   "metadata": {},
   "source": [
    "We can figure out what Z should be by re-arranging the above:\n",
    "\n",
    "$$\\sum_{i=1}^{K} \\frac{e^{\\pmb{\\beta_k} \\pmb{X_i}}}{Z} = 1$$\n",
    "\n",
    "giving us:\n",
    "\n",
    "$$Z = \\sum_{i=1}^{K}e^{\\pmb{\\beta_k} \\pmb{X_i}}$$\n",
    "\n",
    "i.e. Z is a constant across all classes "
   ]
  },
  {
   "cell_type": "markdown",
   "metadata": {},
   "source": [
    "This then gives us the following formulation for the probability that an observation $y_i$ belongs to a class $c$:\n",
    "\n",
    "$$P(y_i = c) = \\frac{e^{\\pmb{\\beta_c} \\pmb{X_i}}}{\\sum_{i=1}^{K}e^{\\pmb{\\beta_k} \\pmb{X_i}}}$$"
   ]
  },
  {
   "cell_type": "markdown",
   "metadata": {},
   "source": [
    "The above formulation is known as a [softmax function](https://en.wikipedia.org/wiki/Softmax_function) and bounds our estimates onto the interval $P(x) \\in{(0,1)}$"
   ]
  },
  {
   "cell_type": "markdown",
   "metadata": {},
   "source": [
    "## 6. Estimating the Model"
   ]
  },
  {
   "cell_type": "markdown",
   "metadata": {},
   "source": [
    "As per the above, for $K$ classes and $M$ features we need to estimate $K M$ parameters i.e. $\\beta_1,...,\\beta_M$ for each log-linear model for each class $k$"
   ]
  },
  {
   "cell_type": "markdown",
   "metadata": {},
   "source": [
    "We can use maximum likelihood to define the criteria we want to optimise on i.e. given a set of observations $(\\pmb{y}, \\pmb{X})$, how can we choose the params $\\pmb{\\beta}$ to maximise the likelihood of observing that data?\n",
    "\n",
    "We can write this as:\n",
    "\n",
    "$$L = \\prod_{i=1}^N p_1^{y_1} p_2^{y_2} \\cdots p_K^{y_K}$$\n",
    "\n",
    "where we have the following:\n",
    " - For each observation, compute the model probabilities for all K classes of belonging to that class ${p_1, p_2, \\cdots, p_K}$\n",
    " - Only include the probability $p_k$ if it is the true class i.e. if $y_k$ is the correct class (this is handled by exponent of $y_k$)\n",
    " - Do this for all observations from $i=1,\\cdots,N$\n",
    " - Multiply them altogether - this is the quantity we want to maximise\n",
    "\n",
    "Can see that this quantity has a maximum of N --> if we get it perfectly right every time with a model that spits out probability of 1 for the true class every time\n",
    "\n",
    "Can re-write as:\n",
    "\n",
    "$$L = \\prod_{i=1}^N \\prod_{j=1}^K p_{ij}^{y_{ij}}$$"
   ]
  },
  {
   "cell_type": "markdown",
   "metadata": {},
   "source": [
    "This quantity is then commonly taken logs of and negated so we have the 'cross-entropy' function which we then aim to minimise using a gradient descent algorithm"
   ]
  },
  {
   "cell_type": "markdown",
   "metadata": {},
   "source": [
    "Links:\n",
    "\n",
    "https://stackoverflow.com/questions/61662278/why-mnlogit-returns-classes-num-1-params-and-how-get-them-all\n",
    "\n",
    "https://en.wikipedia.org/wiki/Multinomial_logistic_regression\n",
    "\n",
    "http://users.isr.ist.utl.pt/~wurmd/Livros/school/Bishop%20-%20Pattern%20Recognition%20And%20Machine%20Learning%20-%20Springer%20%202006.pdf\n",
    "\n",
    "http://www.utstat.toronto.edu/~rsalakhu/sta4273_2012/notes/Lecture3_2012.pdf\n",
    "\n",
    "\n",
    "https://scikit-learn.org/stable/modules/generated/sklearn.linear_model.LogisticRegression.html\n",
    "\n",
    "https://stats.stackexchange.com/questions/52104/multinomial-logistic-regression-vs-one-vs-rest-binary-logistic-regression\n",
    "\n",
    "https://scikit-learn.org/stable/auto_examples/linear_model/plot_logistic_multinomial.html"
   ]
  },
  {
   "cell_type": "markdown",
   "metadata": {},
   "source": [
    "## 7. Other Useful Resources"
   ]
  },
  {
   "cell_type": "markdown",
   "metadata": {},
   "source": [
    "[Here](https://stats.stackexchange.com/questions/22381/why-not-approach-classification-through-regression): a good article on what logistic regression is on stats exchange vs linear regression or pure class predictors like SVM\n",
    "\n"
   ]
  },
  {
   "cell_type": "markdown",
   "metadata": {},
   "source": [
    "[Here](https://stats.stackexchange.com/questions/949/when-is-logistic-regression-solved-in-closed-form): A good article on stats exchange on why logistic regression cannot be solved analytically like linear regression. This is due to the fact that the prediciton by construction is not linear in the parameters (as we squash it into the interval (0,1) and so cannot be solved using linear algebra). Instead we use a loss function defned by MLE and use gradient descent to find the optimal parameter set $(\\alpha, \\beta)$ for our model."
   ]
  }
 ],
 "metadata": {
  "kernelspec": {
   "display_name": "Python 3",
   "language": "python",
   "name": "python3"
  },
  "language_info": {
   "codemirror_mode": {
    "name": "ipython",
    "version": 3
   },
   "file_extension": ".py",
   "mimetype": "text/x-python",
   "name": "python",
   "nbconvert_exporter": "python",
   "pygments_lexer": "ipython3",
   "version": "3.7.9"
  }
 },
 "nbformat": 4,
 "nbformat_minor": 4
}
