{
 "cells": [
  {
   "cell_type": "markdown",
   "metadata": {},
   "source": [
    "# Football Stats Project"
   ]
  },
  {
   "cell_type": "markdown",
   "metadata": {},
   "source": [
    "Aim:\n",
    " - Multiple ML models to predict match outcomes\n",
    " - Multiple ML models to predict score differentials\n",
    " - Visuals and notes explaining the maths behind those models (check into git)\n",
    " - Basic website to display:\n",
    "  - Table of the data with filtering (to be able to easily slice and dice and find anomolies)\n",
    " - Function to run periodically nd pick up new results from the most recent csv and join them on"
   ]
  },
  {
   "cell_type": "markdown",
   "metadata": {},
   "source": [
    "ML model prediction:\n",
    " - Factor creation: Decide on a few starting factors and make functions to make them\n",
    " - Train a model: Train a single model using train / test split and visualise all results\n",
    " - Output results / matches where predictions where wrong etc"
   ]
  },
  {
   "cell_type": "markdown",
   "metadata": {},
   "source": []
  }
 ],
 "metadata": {
  "kernelspec": {
   "display_name": "Python 3",
   "language": "python",
   "name": "python3"
  },
  "language_info": {
   "codemirror_mode": {
    "name": "ipython",
    "version": 3
   },
   "file_extension": ".py",
   "mimetype": "text/x-python",
   "name": "python",
   "nbconvert_exporter": "python",
   "pygments_lexer": "ipython3",
   "version": "3.7.9"
  }
 },
 "nbformat": 4,
 "nbformat_minor": 4
}
